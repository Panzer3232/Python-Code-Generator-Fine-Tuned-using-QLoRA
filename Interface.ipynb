{
  "nbformat": 4,
  "nbformat_minor": 0,
  "metadata": {
    "colab": {
      "provenance": [],
      "gpuType": "T4"
    },
    "kernelspec": {
      "name": "python3",
      "display_name": "Python 3"
    },
    "language_info": {
      "name": "python"
    },
    "accelerator": "GPU",
    "widgets": {
      "application/vnd.jupyter.widget-state+json": {
        "fad6abaa5c0a4a01b618003697389231": {
          "model_module": "@jupyter-widgets/controls",
          "model_name": "VBoxModel",
          "model_module_version": "1.5.0",
          "state": {
            "_dom_classes": [],
            "_model_module": "@jupyter-widgets/controls",
            "_model_module_version": "1.5.0",
            "_model_name": "VBoxModel",
            "_view_count": null,
            "_view_module": "@jupyter-widgets/controls",
            "_view_module_version": "1.5.0",
            "_view_name": "VBoxView",
            "box_style": "",
            "children": [
              "IPY_MODEL_c4adde2c33004253a9403830824471ea",
              "IPY_MODEL_04aca61dcc0c4d9987f3a5667dafd6e9",
              "IPY_MODEL_5a3472eb8aa44ccdb0d03474dbeb6594",
              "IPY_MODEL_928d56f1cb9e46b69c887b44113f63bc"
            ],
            "layout": "IPY_MODEL_afe18adfb50d4a229f69071aa744694d"
          }
        },
        "e910a42278de4010a49e37d87c56940d": {
          "model_module": "@jupyter-widgets/controls",
          "model_name": "HTMLModel",
          "model_module_version": "1.5.0",
          "state": {
            "_dom_classes": [],
            "_model_module": "@jupyter-widgets/controls",
            "_model_module_version": "1.5.0",
            "_model_name": "HTMLModel",
            "_view_count": null,
            "_view_module": "@jupyter-widgets/controls",
            "_view_module_version": "1.5.0",
            "_view_name": "HTMLView",
            "description": "",
            "description_tooltip": null,
            "layout": "IPY_MODEL_d04a5fdfa9d543d0bbd4602d4ff8772b",
            "placeholder": "​",
            "style": "IPY_MODEL_5652843c92fd4d87bc6dc88fbf3ad9e0",
            "value": "<center> <img\nsrc=https://huggingface.co/front/assets/huggingface_logo-noborder.svg\nalt='Hugging Face'> <br> Copy a token from <a\nhref=\"https://huggingface.co/settings/tokens\" target=\"_blank\">your Hugging Face\ntokens page</a> and paste it below. <br> Immediately click login after copying\nyour token or it might be stored in plain text in this notebook file. </center>"
          }
        },
        "87bd897366204c7fa449372a206c74bd": {
          "model_module": "@jupyter-widgets/controls",
          "model_name": "PasswordModel",
          "model_module_version": "1.5.0",
          "state": {
            "_dom_classes": [],
            "_model_module": "@jupyter-widgets/controls",
            "_model_module_version": "1.5.0",
            "_model_name": "PasswordModel",
            "_view_count": null,
            "_view_module": "@jupyter-widgets/controls",
            "_view_module_version": "1.5.0",
            "_view_name": "PasswordView",
            "continuous_update": true,
            "description": "Token:",
            "description_tooltip": null,
            "disabled": false,
            "layout": "IPY_MODEL_674c8a5f7a27453d9ea83dc8bce4c068",
            "placeholder": "​",
            "style": "IPY_MODEL_8adac0a3d8854d77af14e918c2b0db49",
            "value": ""
          }
        },
        "51ded07321a24e089b8436a9e539d992": {
          "model_module": "@jupyter-widgets/controls",
          "model_name": "CheckboxModel",
          "model_module_version": "1.5.0",
          "state": {
            "_dom_classes": [],
            "_model_module": "@jupyter-widgets/controls",
            "_model_module_version": "1.5.0",
            "_model_name": "CheckboxModel",
            "_view_count": null,
            "_view_module": "@jupyter-widgets/controls",
            "_view_module_version": "1.5.0",
            "_view_name": "CheckboxView",
            "description": "Add token as git credential?",
            "description_tooltip": null,
            "disabled": false,
            "indent": true,
            "layout": "IPY_MODEL_42bfaa012d934e2f8d74115c56b0e6a1",
            "style": "IPY_MODEL_3755f3206a8645c482266b13f22ec167",
            "value": true
          }
        },
        "8b75ad708b4542bbb6528e8635e6b88c": {
          "model_module": "@jupyter-widgets/controls",
          "model_name": "ButtonModel",
          "model_module_version": "1.5.0",
          "state": {
            "_dom_classes": [],
            "_model_module": "@jupyter-widgets/controls",
            "_model_module_version": "1.5.0",
            "_model_name": "ButtonModel",
            "_view_count": null,
            "_view_module": "@jupyter-widgets/controls",
            "_view_module_version": "1.5.0",
            "_view_name": "ButtonView",
            "button_style": "",
            "description": "Login",
            "disabled": false,
            "icon": "",
            "layout": "IPY_MODEL_295aa363939946f6abf7c46e1ff201fe",
            "style": "IPY_MODEL_dfcbca4ef1cb484b9edc6ac889821102",
            "tooltip": ""
          }
        },
        "d09b0250173e4fb9adf8180e2f72dea6": {
          "model_module": "@jupyter-widgets/controls",
          "model_name": "HTMLModel",
          "model_module_version": "1.5.0",
          "state": {
            "_dom_classes": [],
            "_model_module": "@jupyter-widgets/controls",
            "_model_module_version": "1.5.0",
            "_model_name": "HTMLModel",
            "_view_count": null,
            "_view_module": "@jupyter-widgets/controls",
            "_view_module_version": "1.5.0",
            "_view_name": "HTMLView",
            "description": "",
            "description_tooltip": null,
            "layout": "IPY_MODEL_a4cd0938557a4f9bbf56033328de13dd",
            "placeholder": "​",
            "style": "IPY_MODEL_a6d4ce10f77742688b359e1624bcec2d",
            "value": "\n<b>Pro Tip:</b> If you don't already have one, you can create a dedicated\n'notebooks' token with 'write' access, that you can then easily reuse for all\nnotebooks. </center>"
          }
        },
        "afe18adfb50d4a229f69071aa744694d": {
          "model_module": "@jupyter-widgets/base",
          "model_name": "LayoutModel",
          "model_module_version": "1.2.0",
          "state": {
            "_model_module": "@jupyter-widgets/base",
            "_model_module_version": "1.2.0",
            "_model_name": "LayoutModel",
            "_view_count": null,
            "_view_module": "@jupyter-widgets/base",
            "_view_module_version": "1.2.0",
            "_view_name": "LayoutView",
            "align_content": null,
            "align_items": "center",
            "align_self": null,
            "border": null,
            "bottom": null,
            "display": "flex",
            "flex": null,
            "flex_flow": "column",
            "grid_area": null,
            "grid_auto_columns": null,
            "grid_auto_flow": null,
            "grid_auto_rows": null,
            "grid_column": null,
            "grid_gap": null,
            "grid_row": null,
            "grid_template_areas": null,
            "grid_template_columns": null,
            "grid_template_rows": null,
            "height": null,
            "justify_content": null,
            "justify_items": null,
            "left": null,
            "margin": null,
            "max_height": null,
            "max_width": null,
            "min_height": null,
            "min_width": null,
            "object_fit": null,
            "object_position": null,
            "order": null,
            "overflow": null,
            "overflow_x": null,
            "overflow_y": null,
            "padding": null,
            "right": null,
            "top": null,
            "visibility": null,
            "width": "50%"
          }
        },
        "d04a5fdfa9d543d0bbd4602d4ff8772b": {
          "model_module": "@jupyter-widgets/base",
          "model_name": "LayoutModel",
          "model_module_version": "1.2.0",
          "state": {
            "_model_module": "@jupyter-widgets/base",
            "_model_module_version": "1.2.0",
            "_model_name": "LayoutModel",
            "_view_count": null,
            "_view_module": "@jupyter-widgets/base",
            "_view_module_version": "1.2.0",
            "_view_name": "LayoutView",
            "align_content": null,
            "align_items": null,
            "align_self": null,
            "border": null,
            "bottom": null,
            "display": null,
            "flex": null,
            "flex_flow": null,
            "grid_area": null,
            "grid_auto_columns": null,
            "grid_auto_flow": null,
            "grid_auto_rows": null,
            "grid_column": null,
            "grid_gap": null,
            "grid_row": null,
            "grid_template_areas": null,
            "grid_template_columns": null,
            "grid_template_rows": null,
            "height": null,
            "justify_content": null,
            "justify_items": null,
            "left": null,
            "margin": null,
            "max_height": null,
            "max_width": null,
            "min_height": null,
            "min_width": null,
            "object_fit": null,
            "object_position": null,
            "order": null,
            "overflow": null,
            "overflow_x": null,
            "overflow_y": null,
            "padding": null,
            "right": null,
            "top": null,
            "visibility": null,
            "width": null
          }
        },
        "5652843c92fd4d87bc6dc88fbf3ad9e0": {
          "model_module": "@jupyter-widgets/controls",
          "model_name": "DescriptionStyleModel",
          "model_module_version": "1.5.0",
          "state": {
            "_model_module": "@jupyter-widgets/controls",
            "_model_module_version": "1.5.0",
            "_model_name": "DescriptionStyleModel",
            "_view_count": null,
            "_view_module": "@jupyter-widgets/base",
            "_view_module_version": "1.2.0",
            "_view_name": "StyleView",
            "description_width": ""
          }
        },
        "674c8a5f7a27453d9ea83dc8bce4c068": {
          "model_module": "@jupyter-widgets/base",
          "model_name": "LayoutModel",
          "model_module_version": "1.2.0",
          "state": {
            "_model_module": "@jupyter-widgets/base",
            "_model_module_version": "1.2.0",
            "_model_name": "LayoutModel",
            "_view_count": null,
            "_view_module": "@jupyter-widgets/base",
            "_view_module_version": "1.2.0",
            "_view_name": "LayoutView",
            "align_content": null,
            "align_items": null,
            "align_self": null,
            "border": null,
            "bottom": null,
            "display": null,
            "flex": null,
            "flex_flow": null,
            "grid_area": null,
            "grid_auto_columns": null,
            "grid_auto_flow": null,
            "grid_auto_rows": null,
            "grid_column": null,
            "grid_gap": null,
            "grid_row": null,
            "grid_template_areas": null,
            "grid_template_columns": null,
            "grid_template_rows": null,
            "height": null,
            "justify_content": null,
            "justify_items": null,
            "left": null,
            "margin": null,
            "max_height": null,
            "max_width": null,
            "min_height": null,
            "min_width": null,
            "object_fit": null,
            "object_position": null,
            "order": null,
            "overflow": null,
            "overflow_x": null,
            "overflow_y": null,
            "padding": null,
            "right": null,
            "top": null,
            "visibility": null,
            "width": null
          }
        },
        "8adac0a3d8854d77af14e918c2b0db49": {
          "model_module": "@jupyter-widgets/controls",
          "model_name": "DescriptionStyleModel",
          "model_module_version": "1.5.0",
          "state": {
            "_model_module": "@jupyter-widgets/controls",
            "_model_module_version": "1.5.0",
            "_model_name": "DescriptionStyleModel",
            "_view_count": null,
            "_view_module": "@jupyter-widgets/base",
            "_view_module_version": "1.2.0",
            "_view_name": "StyleView",
            "description_width": ""
          }
        },
        "42bfaa012d934e2f8d74115c56b0e6a1": {
          "model_module": "@jupyter-widgets/base",
          "model_name": "LayoutModel",
          "model_module_version": "1.2.0",
          "state": {
            "_model_module": "@jupyter-widgets/base",
            "_model_module_version": "1.2.0",
            "_model_name": "LayoutModel",
            "_view_count": null,
            "_view_module": "@jupyter-widgets/base",
            "_view_module_version": "1.2.0",
            "_view_name": "LayoutView",
            "align_content": null,
            "align_items": null,
            "align_self": null,
            "border": null,
            "bottom": null,
            "display": null,
            "flex": null,
            "flex_flow": null,
            "grid_area": null,
            "grid_auto_columns": null,
            "grid_auto_flow": null,
            "grid_auto_rows": null,
            "grid_column": null,
            "grid_gap": null,
            "grid_row": null,
            "grid_template_areas": null,
            "grid_template_columns": null,
            "grid_template_rows": null,
            "height": null,
            "justify_content": null,
            "justify_items": null,
            "left": null,
            "margin": null,
            "max_height": null,
            "max_width": null,
            "min_height": null,
            "min_width": null,
            "object_fit": null,
            "object_position": null,
            "order": null,
            "overflow": null,
            "overflow_x": null,
            "overflow_y": null,
            "padding": null,
            "right": null,
            "top": null,
            "visibility": null,
            "width": null
          }
        },
        "3755f3206a8645c482266b13f22ec167": {
          "model_module": "@jupyter-widgets/controls",
          "model_name": "DescriptionStyleModel",
          "model_module_version": "1.5.0",
          "state": {
            "_model_module": "@jupyter-widgets/controls",
            "_model_module_version": "1.5.0",
            "_model_name": "DescriptionStyleModel",
            "_view_count": null,
            "_view_module": "@jupyter-widgets/base",
            "_view_module_version": "1.2.0",
            "_view_name": "StyleView",
            "description_width": ""
          }
        },
        "295aa363939946f6abf7c46e1ff201fe": {
          "model_module": "@jupyter-widgets/base",
          "model_name": "LayoutModel",
          "model_module_version": "1.2.0",
          "state": {
            "_model_module": "@jupyter-widgets/base",
            "_model_module_version": "1.2.0",
            "_model_name": "LayoutModel",
            "_view_count": null,
            "_view_module": "@jupyter-widgets/base",
            "_view_module_version": "1.2.0",
            "_view_name": "LayoutView",
            "align_content": null,
            "align_items": null,
            "align_self": null,
            "border": null,
            "bottom": null,
            "display": null,
            "flex": null,
            "flex_flow": null,
            "grid_area": null,
            "grid_auto_columns": null,
            "grid_auto_flow": null,
            "grid_auto_rows": null,
            "grid_column": null,
            "grid_gap": null,
            "grid_row": null,
            "grid_template_areas": null,
            "grid_template_columns": null,
            "grid_template_rows": null,
            "height": null,
            "justify_content": null,
            "justify_items": null,
            "left": null,
            "margin": null,
            "max_height": null,
            "max_width": null,
            "min_height": null,
            "min_width": null,
            "object_fit": null,
            "object_position": null,
            "order": null,
            "overflow": null,
            "overflow_x": null,
            "overflow_y": null,
            "padding": null,
            "right": null,
            "top": null,
            "visibility": null,
            "width": null
          }
        },
        "dfcbca4ef1cb484b9edc6ac889821102": {
          "model_module": "@jupyter-widgets/controls",
          "model_name": "ButtonStyleModel",
          "model_module_version": "1.5.0",
          "state": {
            "_model_module": "@jupyter-widgets/controls",
            "_model_module_version": "1.5.0",
            "_model_name": "ButtonStyleModel",
            "_view_count": null,
            "_view_module": "@jupyter-widgets/base",
            "_view_module_version": "1.2.0",
            "_view_name": "StyleView",
            "button_color": null,
            "font_weight": ""
          }
        },
        "a4cd0938557a4f9bbf56033328de13dd": {
          "model_module": "@jupyter-widgets/base",
          "model_name": "LayoutModel",
          "model_module_version": "1.2.0",
          "state": {
            "_model_module": "@jupyter-widgets/base",
            "_model_module_version": "1.2.0",
            "_model_name": "LayoutModel",
            "_view_count": null,
            "_view_module": "@jupyter-widgets/base",
            "_view_module_version": "1.2.0",
            "_view_name": "LayoutView",
            "align_content": null,
            "align_items": null,
            "align_self": null,
            "border": null,
            "bottom": null,
            "display": null,
            "flex": null,
            "flex_flow": null,
            "grid_area": null,
            "grid_auto_columns": null,
            "grid_auto_flow": null,
            "grid_auto_rows": null,
            "grid_column": null,
            "grid_gap": null,
            "grid_row": null,
            "grid_template_areas": null,
            "grid_template_columns": null,
            "grid_template_rows": null,
            "height": null,
            "justify_content": null,
            "justify_items": null,
            "left": null,
            "margin": null,
            "max_height": null,
            "max_width": null,
            "min_height": null,
            "min_width": null,
            "object_fit": null,
            "object_position": null,
            "order": null,
            "overflow": null,
            "overflow_x": null,
            "overflow_y": null,
            "padding": null,
            "right": null,
            "top": null,
            "visibility": null,
            "width": null
          }
        },
        "a6d4ce10f77742688b359e1624bcec2d": {
          "model_module": "@jupyter-widgets/controls",
          "model_name": "DescriptionStyleModel",
          "model_module_version": "1.5.0",
          "state": {
            "_model_module": "@jupyter-widgets/controls",
            "_model_module_version": "1.5.0",
            "_model_name": "DescriptionStyleModel",
            "_view_count": null,
            "_view_module": "@jupyter-widgets/base",
            "_view_module_version": "1.2.0",
            "_view_name": "StyleView",
            "description_width": ""
          }
        },
        "d2b32419683649ed80865192d7d5cfb2": {
          "model_module": "@jupyter-widgets/controls",
          "model_name": "LabelModel",
          "model_module_version": "1.5.0",
          "state": {
            "_dom_classes": [],
            "_model_module": "@jupyter-widgets/controls",
            "_model_module_version": "1.5.0",
            "_model_name": "LabelModel",
            "_view_count": null,
            "_view_module": "@jupyter-widgets/controls",
            "_view_module_version": "1.5.0",
            "_view_name": "LabelView",
            "description": "",
            "description_tooltip": null,
            "layout": "IPY_MODEL_9e5cd225885d4e14aa0d002307ff754d",
            "placeholder": "​",
            "style": "IPY_MODEL_f26cfe8804ad43c896e477abb7d3aeb2",
            "value": "Connecting..."
          }
        },
        "9e5cd225885d4e14aa0d002307ff754d": {
          "model_module": "@jupyter-widgets/base",
          "model_name": "LayoutModel",
          "model_module_version": "1.2.0",
          "state": {
            "_model_module": "@jupyter-widgets/base",
            "_model_module_version": "1.2.0",
            "_model_name": "LayoutModel",
            "_view_count": null,
            "_view_module": "@jupyter-widgets/base",
            "_view_module_version": "1.2.0",
            "_view_name": "LayoutView",
            "align_content": null,
            "align_items": null,
            "align_self": null,
            "border": null,
            "bottom": null,
            "display": null,
            "flex": null,
            "flex_flow": null,
            "grid_area": null,
            "grid_auto_columns": null,
            "grid_auto_flow": null,
            "grid_auto_rows": null,
            "grid_column": null,
            "grid_gap": null,
            "grid_row": null,
            "grid_template_areas": null,
            "grid_template_columns": null,
            "grid_template_rows": null,
            "height": null,
            "justify_content": null,
            "justify_items": null,
            "left": null,
            "margin": null,
            "max_height": null,
            "max_width": null,
            "min_height": null,
            "min_width": null,
            "object_fit": null,
            "object_position": null,
            "order": null,
            "overflow": null,
            "overflow_x": null,
            "overflow_y": null,
            "padding": null,
            "right": null,
            "top": null,
            "visibility": null,
            "width": null
          }
        },
        "f26cfe8804ad43c896e477abb7d3aeb2": {
          "model_module": "@jupyter-widgets/controls",
          "model_name": "DescriptionStyleModel",
          "model_module_version": "1.5.0",
          "state": {
            "_model_module": "@jupyter-widgets/controls",
            "_model_module_version": "1.5.0",
            "_model_name": "DescriptionStyleModel",
            "_view_count": null,
            "_view_module": "@jupyter-widgets/base",
            "_view_module_version": "1.2.0",
            "_view_name": "StyleView",
            "description_width": ""
          }
        },
        "c4adde2c33004253a9403830824471ea": {
          "model_module": "@jupyter-widgets/controls",
          "model_name": "LabelModel",
          "model_module_version": "1.5.0",
          "state": {
            "_dom_classes": [],
            "_model_module": "@jupyter-widgets/controls",
            "_model_module_version": "1.5.0",
            "_model_name": "LabelModel",
            "_view_count": null,
            "_view_module": "@jupyter-widgets/controls",
            "_view_module_version": "1.5.0",
            "_view_name": "LabelView",
            "description": "",
            "description_tooltip": null,
            "layout": "IPY_MODEL_c294cbd7e68049cbb5900e924b870eb6",
            "placeholder": "​",
            "style": "IPY_MODEL_2122aa8cd40441bc85afae81a52cfff3",
            "value": "Token is valid (permission: write)."
          }
        },
        "04aca61dcc0c4d9987f3a5667dafd6e9": {
          "model_module": "@jupyter-widgets/controls",
          "model_name": "LabelModel",
          "model_module_version": "1.5.0",
          "state": {
            "_dom_classes": [],
            "_model_module": "@jupyter-widgets/controls",
            "_model_module_version": "1.5.0",
            "_model_name": "LabelModel",
            "_view_count": null,
            "_view_module": "@jupyter-widgets/controls",
            "_view_module_version": "1.5.0",
            "_view_name": "LabelView",
            "description": "",
            "description_tooltip": null,
            "layout": "IPY_MODEL_35a01f05e49e499192ba8d572ad9b2c7",
            "placeholder": "​",
            "style": "IPY_MODEL_3451ea1acad74ebfa75ba7bb31c59a04",
            "value": "Your token has been saved in your configured git credential helpers (store)."
          }
        },
        "5a3472eb8aa44ccdb0d03474dbeb6594": {
          "model_module": "@jupyter-widgets/controls",
          "model_name": "LabelModel",
          "model_module_version": "1.5.0",
          "state": {
            "_dom_classes": [],
            "_model_module": "@jupyter-widgets/controls",
            "_model_module_version": "1.5.0",
            "_model_name": "LabelModel",
            "_view_count": null,
            "_view_module": "@jupyter-widgets/controls",
            "_view_module_version": "1.5.0",
            "_view_name": "LabelView",
            "description": "",
            "description_tooltip": null,
            "layout": "IPY_MODEL_453fc51821b644babb506031595e9ff1",
            "placeholder": "​",
            "style": "IPY_MODEL_fe44f1b1d406453d8bd8a806a513daf7",
            "value": "Your token has been saved to /root/.cache/huggingface/token"
          }
        },
        "928d56f1cb9e46b69c887b44113f63bc": {
          "model_module": "@jupyter-widgets/controls",
          "model_name": "LabelModel",
          "model_module_version": "1.5.0",
          "state": {
            "_dom_classes": [],
            "_model_module": "@jupyter-widgets/controls",
            "_model_module_version": "1.5.0",
            "_model_name": "LabelModel",
            "_view_count": null,
            "_view_module": "@jupyter-widgets/controls",
            "_view_module_version": "1.5.0",
            "_view_name": "LabelView",
            "description": "",
            "description_tooltip": null,
            "layout": "IPY_MODEL_ac74f66a71ea41379a69be9d30b9c576",
            "placeholder": "​",
            "style": "IPY_MODEL_40d18bbc855a4426ac8cd7d80be49cdd",
            "value": "Login successful"
          }
        },
        "c294cbd7e68049cbb5900e924b870eb6": {
          "model_module": "@jupyter-widgets/base",
          "model_name": "LayoutModel",
          "model_module_version": "1.2.0",
          "state": {
            "_model_module": "@jupyter-widgets/base",
            "_model_module_version": "1.2.0",
            "_model_name": "LayoutModel",
            "_view_count": null,
            "_view_module": "@jupyter-widgets/base",
            "_view_module_version": "1.2.0",
            "_view_name": "LayoutView",
            "align_content": null,
            "align_items": null,
            "align_self": null,
            "border": null,
            "bottom": null,
            "display": null,
            "flex": null,
            "flex_flow": null,
            "grid_area": null,
            "grid_auto_columns": null,
            "grid_auto_flow": null,
            "grid_auto_rows": null,
            "grid_column": null,
            "grid_gap": null,
            "grid_row": null,
            "grid_template_areas": null,
            "grid_template_columns": null,
            "grid_template_rows": null,
            "height": null,
            "justify_content": null,
            "justify_items": null,
            "left": null,
            "margin": null,
            "max_height": null,
            "max_width": null,
            "min_height": null,
            "min_width": null,
            "object_fit": null,
            "object_position": null,
            "order": null,
            "overflow": null,
            "overflow_x": null,
            "overflow_y": null,
            "padding": null,
            "right": null,
            "top": null,
            "visibility": null,
            "width": null
          }
        },
        "2122aa8cd40441bc85afae81a52cfff3": {
          "model_module": "@jupyter-widgets/controls",
          "model_name": "DescriptionStyleModel",
          "model_module_version": "1.5.0",
          "state": {
            "_model_module": "@jupyter-widgets/controls",
            "_model_module_version": "1.5.0",
            "_model_name": "DescriptionStyleModel",
            "_view_count": null,
            "_view_module": "@jupyter-widgets/base",
            "_view_module_version": "1.2.0",
            "_view_name": "StyleView",
            "description_width": ""
          }
        },
        "35a01f05e49e499192ba8d572ad9b2c7": {
          "model_module": "@jupyter-widgets/base",
          "model_name": "LayoutModel",
          "model_module_version": "1.2.0",
          "state": {
            "_model_module": "@jupyter-widgets/base",
            "_model_module_version": "1.2.0",
            "_model_name": "LayoutModel",
            "_view_count": null,
            "_view_module": "@jupyter-widgets/base",
            "_view_module_version": "1.2.0",
            "_view_name": "LayoutView",
            "align_content": null,
            "align_items": null,
            "align_self": null,
            "border": null,
            "bottom": null,
            "display": null,
            "flex": null,
            "flex_flow": null,
            "grid_area": null,
            "grid_auto_columns": null,
            "grid_auto_flow": null,
            "grid_auto_rows": null,
            "grid_column": null,
            "grid_gap": null,
            "grid_row": null,
            "grid_template_areas": null,
            "grid_template_columns": null,
            "grid_template_rows": null,
            "height": null,
            "justify_content": null,
            "justify_items": null,
            "left": null,
            "margin": null,
            "max_height": null,
            "max_width": null,
            "min_height": null,
            "min_width": null,
            "object_fit": null,
            "object_position": null,
            "order": null,
            "overflow": null,
            "overflow_x": null,
            "overflow_y": null,
            "padding": null,
            "right": null,
            "top": null,
            "visibility": null,
            "width": null
          }
        },
        "3451ea1acad74ebfa75ba7bb31c59a04": {
          "model_module": "@jupyter-widgets/controls",
          "model_name": "DescriptionStyleModel",
          "model_module_version": "1.5.0",
          "state": {
            "_model_module": "@jupyter-widgets/controls",
            "_model_module_version": "1.5.0",
            "_model_name": "DescriptionStyleModel",
            "_view_count": null,
            "_view_module": "@jupyter-widgets/base",
            "_view_module_version": "1.2.0",
            "_view_name": "StyleView",
            "description_width": ""
          }
        },
        "453fc51821b644babb506031595e9ff1": {
          "model_module": "@jupyter-widgets/base",
          "model_name": "LayoutModel",
          "model_module_version": "1.2.0",
          "state": {
            "_model_module": "@jupyter-widgets/base",
            "_model_module_version": "1.2.0",
            "_model_name": "LayoutModel",
            "_view_count": null,
            "_view_module": "@jupyter-widgets/base",
            "_view_module_version": "1.2.0",
            "_view_name": "LayoutView",
            "align_content": null,
            "align_items": null,
            "align_self": null,
            "border": null,
            "bottom": null,
            "display": null,
            "flex": null,
            "flex_flow": null,
            "grid_area": null,
            "grid_auto_columns": null,
            "grid_auto_flow": null,
            "grid_auto_rows": null,
            "grid_column": null,
            "grid_gap": null,
            "grid_row": null,
            "grid_template_areas": null,
            "grid_template_columns": null,
            "grid_template_rows": null,
            "height": null,
            "justify_content": null,
            "justify_items": null,
            "left": null,
            "margin": null,
            "max_height": null,
            "max_width": null,
            "min_height": null,
            "min_width": null,
            "object_fit": null,
            "object_position": null,
            "order": null,
            "overflow": null,
            "overflow_x": null,
            "overflow_y": null,
            "padding": null,
            "right": null,
            "top": null,
            "visibility": null,
            "width": null
          }
        },
        "fe44f1b1d406453d8bd8a806a513daf7": {
          "model_module": "@jupyter-widgets/controls",
          "model_name": "DescriptionStyleModel",
          "model_module_version": "1.5.0",
          "state": {
            "_model_module": "@jupyter-widgets/controls",
            "_model_module_version": "1.5.0",
            "_model_name": "DescriptionStyleModel",
            "_view_count": null,
            "_view_module": "@jupyter-widgets/base",
            "_view_module_version": "1.2.0",
            "_view_name": "StyleView",
            "description_width": ""
          }
        },
        "ac74f66a71ea41379a69be9d30b9c576": {
          "model_module": "@jupyter-widgets/base",
          "model_name": "LayoutModel",
          "model_module_version": "1.2.0",
          "state": {
            "_model_module": "@jupyter-widgets/base",
            "_model_module_version": "1.2.0",
            "_model_name": "LayoutModel",
            "_view_count": null,
            "_view_module": "@jupyter-widgets/base",
            "_view_module_version": "1.2.0",
            "_view_name": "LayoutView",
            "align_content": null,
            "align_items": null,
            "align_self": null,
            "border": null,
            "bottom": null,
            "display": null,
            "flex": null,
            "flex_flow": null,
            "grid_area": null,
            "grid_auto_columns": null,
            "grid_auto_flow": null,
            "grid_auto_rows": null,
            "grid_column": null,
            "grid_gap": null,
            "grid_row": null,
            "grid_template_areas": null,
            "grid_template_columns": null,
            "grid_template_rows": null,
            "height": null,
            "justify_content": null,
            "justify_items": null,
            "left": null,
            "margin": null,
            "max_height": null,
            "max_width": null,
            "min_height": null,
            "min_width": null,
            "object_fit": null,
            "object_position": null,
            "order": null,
            "overflow": null,
            "overflow_x": null,
            "overflow_y": null,
            "padding": null,
            "right": null,
            "top": null,
            "visibility": null,
            "width": null
          }
        },
        "40d18bbc855a4426ac8cd7d80be49cdd": {
          "model_module": "@jupyter-widgets/controls",
          "model_name": "DescriptionStyleModel",
          "model_module_version": "1.5.0",
          "state": {
            "_model_module": "@jupyter-widgets/controls",
            "_model_module_version": "1.5.0",
            "_model_name": "DescriptionStyleModel",
            "_view_count": null,
            "_view_module": "@jupyter-widgets/base",
            "_view_module_version": "1.2.0",
            "_view_name": "StyleView",
            "description_width": ""
          }
        }
      }
    }
  },
  "cells": [
    {
      "cell_type": "code",
      "execution_count": null,
      "metadata": {
        "colab": {
          "base_uri": "https://localhost:8080/"
        },
        "id": "aBT912ddfTJE",
        "outputId": "f8b54489-47a2-4e24-f16b-4ec20cdc3148"
      },
      "outputs": [
        {
          "output_type": "stream",
          "name": "stdout",
          "text": [
            "\u001b[2K     \u001b[90m━━━━━━━━━━━━━━━━━━━━━━━━━━━━━━━━━━━━━━━━\u001b[0m \u001b[32m119.8/119.8 MB\u001b[0m \u001b[31m8.2 MB/s\u001b[0m eta \u001b[36m0:00:00\u001b[0m\n",
            "\u001b[2K     \u001b[90m━━━━━━━━━━━━━━━━━━━━━━━━━━━━━━━━━━━━━━━━\u001b[0m \u001b[32m199.1/199.1 kB\u001b[0m \u001b[31m5.3 MB/s\u001b[0m eta \u001b[36m0:00:00\u001b[0m\n",
            "\u001b[2K     \u001b[90m━━━━━━━━━━━━━━━━━━━━━━━━━━━━━━━━━━━━━━━━\u001b[0m \u001b[32m297.6/297.6 kB\u001b[0m \u001b[31m12.4 MB/s\u001b[0m eta \u001b[36m0:00:00\u001b[0m\n",
            "\u001b[2K     \u001b[90m━━━━━━━━━━━━━━━━━━━━━━━━━━━━━━━━━━━━━━━━\u001b[0m \u001b[32m8.1/8.1 MB\u001b[0m \u001b[31m30.2 MB/s\u001b[0m eta \u001b[36m0:00:00\u001b[0m\n",
            "\u001b[2K     \u001b[90m━━━━━━━━━━━━━━━━━━━━━━━━━━━━━━━━━━━━━━━━\u001b[0m \u001b[32m207.3/207.3 kB\u001b[0m \u001b[31m21.0 MB/s\u001b[0m eta \u001b[36m0:00:00\u001b[0m\n",
            "\u001b[2K     \u001b[90m━━━━━━━━━━━━━━━━━━━━━━━━━━━━━━━━━━━━━━━━\u001b[0m \u001b[32m5.8/5.8 MB\u001b[0m \u001b[31m33.1 MB/s\u001b[0m eta \u001b[36m0:00:00\u001b[0m\n",
            "\u001b[2K     \u001b[90m━━━━━━━━━━━━━━━━━━━━━━━━━━━━━━━━━━━━━━━━\u001b[0m \u001b[32m83.0/83.0 kB\u001b[0m \u001b[31m10.9 MB/s\u001b[0m eta \u001b[36m0:00:00\u001b[0m\n",
            "\u001b[2K     \u001b[90m━━━━━━━━━━━━━━━━━━━━━━━━━━━━━━━━━━━━━━━━\u001b[0m \u001b[32m62.7/62.7 kB\u001b[0m \u001b[31m8.1 MB/s\u001b[0m eta \u001b[36m0:00:00\u001b[0m\n",
            "\u001b[?25hCollecting pyngrok\n",
            "  Downloading pyngrok-7.1.6-py3-none-any.whl (22 kB)\n",
            "Requirement already satisfied: PyYAML>=5.1 in /usr/local/lib/python3.10/dist-packages (from pyngrok) (6.0.1)\n",
            "Installing collected packages: pyngrok\n",
            "Successfully installed pyngrok-7.1.6\n"
          ]
        }
      ],
      "source": [
        "!pip install -q transformers>=4.32.0 datasets evaluate #Comes from HuggingFace\n",
        "!pip install -q -U bitsandbytes                        # For quantization\n",
        "!pip install -q -U peft                                # Parameter-efficient Fine-tuning\n",
        "!pip install -q streamlit                              # For Deploying apps"
      ]
    },
    {
      "cell_type": "code",
      "source": [
        "!pip install --upgrade huggingface_hub                # To access hugginface"
      ],
      "metadata": {
        "colab": {
          "base_uri": "https://localhost:8080/"
        },
        "id": "cVkpnSdQfn3U",
        "outputId": "7844024d-8932-486c-afd6-6f5266ec6092"
      },
      "execution_count": null,
      "outputs": [
        {
          "output_type": "stream",
          "name": "stdout",
          "text": [
            "Requirement already satisfied: huggingface_hub in /usr/local/lib/python3.10/dist-packages (0.22.2)\n",
            "Requirement already satisfied: filelock in /usr/local/lib/python3.10/dist-packages (from huggingface_hub) (3.13.4)\n",
            "Requirement already satisfied: fsspec>=2023.5.0 in /usr/local/lib/python3.10/dist-packages (from huggingface_hub) (2023.6.0)\n",
            "Requirement already satisfied: packaging>=20.9 in /usr/local/lib/python3.10/dist-packages (from huggingface_hub) (24.0)\n",
            "Requirement already satisfied: pyyaml>=5.1 in /usr/local/lib/python3.10/dist-packages (from huggingface_hub) (6.0.1)\n",
            "Requirement already satisfied: requests in /usr/local/lib/python3.10/dist-packages (from huggingface_hub) (2.31.0)\n",
            "Requirement already satisfied: tqdm>=4.42.1 in /usr/local/lib/python3.10/dist-packages (from huggingface_hub) (4.66.2)\n",
            "Requirement already satisfied: typing-extensions>=3.7.4.3 in /usr/local/lib/python3.10/dist-packages (from huggingface_hub) (4.11.0)\n",
            "Requirement already satisfied: charset-normalizer<4,>=2 in /usr/local/lib/python3.10/dist-packages (from requests->huggingface_hub) (3.3.2)\n",
            "Requirement already satisfied: idna<4,>=2.5 in /usr/local/lib/python3.10/dist-packages (from requests->huggingface_hub) (3.7)\n",
            "Requirement already satisfied: urllib3<3,>=1.21.1 in /usr/local/lib/python3.10/dist-packages (from requests->huggingface_hub) (2.0.7)\n",
            "Requirement already satisfied: certifi>=2017.4.17 in /usr/local/lib/python3.10/dist-packages (from requests->huggingface_hub) (2024.2.2)\n"
          ]
        }
      ]
    },
    {
      "cell_type": "markdown",
      "source": [
        "# Interface to query user input using best model (Model B in my case).\n",
        "\n",
        "### Below is the implementation of interface which query user input with Model B and generates python code or function based on query.It uses streamlit for create and deploy a web application. The application is designed to be accessible over the internet, making it easy for users to interact with the language model and obtain code generation results. Image shows the interface\n",
        "\n",
        "![Screenshot from 2024-04-28 18-24-43.png](data:image/png;base64,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)"
      ],
      "metadata": {
        "id": "OHNLIayekQ8w"
      }
    },
    {
      "cell_type": "code",
      "source": [
        "from huggingface_hub import notebook_login\n",
        "# Log in to HF Hub\n",
        "notebook_login()"
      ],
      "metadata": {
        "colab": {
          "base_uri": "https://localhost:8080/",
          "height": 145,
          "referenced_widgets": [
            "fad6abaa5c0a4a01b618003697389231",
            "e910a42278de4010a49e37d87c56940d",
            "87bd897366204c7fa449372a206c74bd",
            "51ded07321a24e089b8436a9e539d992",
            "8b75ad708b4542bbb6528e8635e6b88c",
            "d09b0250173e4fb9adf8180e2f72dea6",
            "afe18adfb50d4a229f69071aa744694d",
            "d04a5fdfa9d543d0bbd4602d4ff8772b",
            "5652843c92fd4d87bc6dc88fbf3ad9e0",
            "674c8a5f7a27453d9ea83dc8bce4c068",
            "8adac0a3d8854d77af14e918c2b0db49",
            "42bfaa012d934e2f8d74115c56b0e6a1",
            "3755f3206a8645c482266b13f22ec167",
            "295aa363939946f6abf7c46e1ff201fe",
            "dfcbca4ef1cb484b9edc6ac889821102",
            "a4cd0938557a4f9bbf56033328de13dd",
            "a6d4ce10f77742688b359e1624bcec2d",
            "d2b32419683649ed80865192d7d5cfb2",
            "9e5cd225885d4e14aa0d002307ff754d",
            "f26cfe8804ad43c896e477abb7d3aeb2",
            "c4adde2c33004253a9403830824471ea",
            "04aca61dcc0c4d9987f3a5667dafd6e9",
            "5a3472eb8aa44ccdb0d03474dbeb6594",
            "928d56f1cb9e46b69c887b44113f63bc",
            "c294cbd7e68049cbb5900e924b870eb6",
            "2122aa8cd40441bc85afae81a52cfff3",
            "35a01f05e49e499192ba8d572ad9b2c7",
            "3451ea1acad74ebfa75ba7bb31c59a04",
            "453fc51821b644babb506031595e9ff1",
            "fe44f1b1d406453d8bd8a806a513daf7",
            "ac74f66a71ea41379a69be9d30b9c576",
            "40d18bbc855a4426ac8cd7d80be49cdd"
          ]
        },
        "id": "kTYikFYtfp0E",
        "outputId": "c3adf5f4-22b7-4739-f18a-d894a3fa0995"
      },
      "execution_count": null,
      "outputs": [
        {
          "output_type": "display_data",
          "data": {
            "text/plain": [
              "VBox(children=(HTML(value='<center> <img\\nsrc=https://huggingface.co/front/assets/huggingface_logo-noborder.sv…"
            ],
            "application/vnd.jupyter.widget-view+json": {
              "version_major": 2,
              "version_minor": 0,
              "model_id": "fad6abaa5c0a4a01b618003697389231"
            }
          },
          "metadata": {}
        }
      ]
    },
    {
      "cell_type": "markdown",
      "source": [
        "###The app_file_str variable contains the source code for a Streamlit web application. This app uses a pre-trained language model Model B and tokenizer (AutoTokenizer) to generate Python code based on user input. The app includes a function to format user instructions into a prompt that the model can understand and a function to generate code using the model's response."
      ],
      "metadata": {
        "id": "GRNz_s6klpXs"
      }
    },
    {
      "cell_type": "code",
      "source": [
        "app_file_str = \"\"\"\n",
        "import streamlit as st\n",
        "import torch\n",
        "from peft import AutoPeftModelForCausalLM\n",
        "from transformers import AutoTokenizer\n",
        "# Load the model and tokenizer\n",
        "huggingface_token = ''  # Replace with your actual token\n",
        "model_repo = 'ashrianmol/Python-code-LLAMA-7B'\n",
        "tuned_model = AutoPeftModelForCausalLM.from_pretrained(\n",
        "    model_repo,\n",
        "    low_cpu_mem_usage=True,\n",
        "    torch_dtype=torch.float16,\n",
        "    load_in_4bit=True,\n",
        "    use_auth_token=huggingface_token\n",
        ")\n",
        "tokenizer = AutoTokenizer.from_pretrained(\n",
        "    model_repo,\n",
        "    use_auth_token=huggingface_token\n",
        ")\n",
        "\n",
        "# Define the format_instruction function\n",
        "def format_instruction(instruction):\n",
        "    formatted_instruction = instruction.strip() if isinstance(instruction, str) else \"\"\n",
        "    return f\\\"\\\"\\\"### Instruction:\n",
        "Use the Task below to write the Python function or code, which can solve the following task.\n",
        "\n",
        "### Task:\n",
        "{formatted_instruction}\n",
        "\n",
        "### Python Function or Code:\n",
        "\\\"\\\"\\\"\n",
        "\n",
        "# Define the function to get the model's response\n",
        "def get_response(user_input):\n",
        "    prompt = format_instruction({'instruction': user_input})\n",
        "    inputs = tokenizer(prompt, return_tensors='pt', padding=True, truncation=True, max_length=128)\n",
        "    outputs = tuned_model.generate(**inputs.to(tuned_model.device), max_new_tokens=100)\n",
        "    code = tokenizer.decode(outputs[0], skip_special_tokens=True)\n",
        "    return code\n",
        "\n",
        "# Streamlit app frontend\n",
        "def main():\n",
        "    st.title(\"Python Code Generator\")\n",
        "    user_input = st.text_area(\"Enter your instruction in natural language:\", height=150)\n",
        "    generate_button = st.button(\"Generate Python Code\")\n",
        "\n",
        "    if generate_button and user_input:\n",
        "        with st.spinner('Generating Python code...'):\n",
        "            output = get_response(user_input)\n",
        "            st.text_area(\"Generated Python Code:\", output, height=300)\n",
        "\n",
        "if __name__ == \"__main__\":\n",
        "    main()\n",
        "\"\"\"\n",
        "with open(\"app.py\", 'w') as file:\n",
        "    # Write the code content to the file\n",
        "    file.write(app_file_str)\n"
      ],
      "metadata": {
        "id": "pzhVbWb2fsKd"
      },
      "execution_count": null,
      "outputs": []
    },
    {
      "cell_type": "markdown",
      "source": [
        "###Install localtunnel to serve the Streamlit app"
      ],
      "metadata": {
        "id": "uSJws4Yzl9PB"
      }
    },
    {
      "cell_type": "code",
      "source": [
        "!npm install --silent localtunnel"
      ],
      "metadata": {
        "colab": {
          "base_uri": "https://localhost:8080/"
        },
        "id": "p759N4CKgcll",
        "outputId": "7fde4649-2266-45b2-a657-f3b5e84bbf7e"
      },
      "execution_count": null,
      "outputs": [
        {
          "output_type": "stream",
          "name": "stdout",
          "text": [
            "\u001b[K\u001b[?25h+ localtunnel@2.0.2\n",
            "updated 1 package and audited 36 packages in 0.677s\n",
            "\n",
            "3 packages are looking for funding\n",
            "  run `npm fund` for details\n",
            "\n",
            "found 2 \u001b[93mmoderate\u001b[0m severity vulnerabilities\n",
            "  run `npm audit fix` to fix them, or `npm audit` for details\n"
          ]
        }
      ]
    },
    {
      "cell_type": "markdown",
      "source": [
        "###Run the Streamlit app in the background"
      ],
      "metadata": {
        "id": "d2e4r4JsmACv"
      }
    },
    {
      "cell_type": "code",
      "source": [
        "!streamlit run app.py &>/content/logs.txt &"
      ],
      "metadata": {
        "id": "O0OMDItwgey9"
      },
      "execution_count": null,
      "outputs": []
    },
    {
      "cell_type": "markdown",
      "source": [
        "###Make the Streamlit app accessible on port 8501 and show its IP."
      ],
      "metadata": {
        "id": "QK9vvRAWmFbV"
      }
    },
    {
      "cell_type": "code",
      "source": [
        "!npx localtunnel --port 8501 & curl ipv4.icanhazip.com"
      ],
      "metadata": {
        "colab": {
          "base_uri": "https://localhost:8080/"
        },
        "id": "XzySL2s5ggdU",
        "outputId": "44fe0004-8227-4552-c052-08117a65faec"
      },
      "execution_count": null,
      "outputs": [
        {
          "output_type": "stream",
          "name": "stdout",
          "text": [
            "34.90.83.217\n",
            "\u001b[K\u001b[?25hnpx: installed 22 in 1.948s\n",
            "your url is: https://fair-dots-drive.loca.lt\n"
          ]
        }
      ]
    },
    {
      "cell_type": "code",
      "source": [],
      "metadata": {
        "id": "kexnWMQTgh9E"
      },
      "execution_count": null,
      "outputs": []
    }
  ]
}